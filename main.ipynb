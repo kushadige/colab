{
    "cells": [
        {
            "cell_type": "markdown",
            "id": "57ed1406-0b96-46ff-878f-958098225910",
            "metadata": {
                "tags": []
            },
            "source": [
                "# jupyter notebook - colab\n",
                "\n"
            ]
        }
    ]
}
